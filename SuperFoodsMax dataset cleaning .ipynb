{
 "cells": [
  {
   "cell_type": "code",
   "execution_count": 1,
   "id": "4cd219eb-8b92-4af0-a626-877cf11c80fd",
   "metadata": {},
   "outputs": [],
   "source": [
    "import pandas as pd\n",
    "import numpy as np\n",
    "import matplotlib\n",
    "%matplotlib inline"
   ]
  },
  {
   "cell_type": "code",
   "execution_count": 3,
   "id": "980f16a4-92d9-42c6-b715-f78d28b40ae7",
   "metadata": {},
   "outputs": [
    {
     "name": "stdout",
     "output_type": "stream",
     "text": [
      "Data frame has 77750 rows\n",
      "Data frame head\n",
      "    customer_id  product_id  basket_id   loyalty     household_type age_band  \\\n",
      "0        15803     1131974      57266  Loyalist  1 adult with kids    19-24   \n",
      "1        15803     1051516      57266  Loyalist  1 adult with kids    19-24   \n",
      "2        15803      967254      57266  Loyalist  1 adult with kids    19-24   \n",
      "3        15803     1134222      57266  Loyalist  1 adult with kids    19-24   \n",
      "4        15803     1003421      57266  Loyalist  1 adult with kids    19-24   \n",
      "\n",
      "       department     brand                commodity  store  price  \\\n",
      "0         Grocery   private   Baked bread/buns/rolls    374   0.99   \n",
      "1         Produce  national  Vegetables - all others    374   0.70   \n",
      "2  Pharmaceutical  national             Cold and flu    374   1.68   \n",
      "3         Grocery   private         Paper housewares    374   2.59   \n",
      "4         Grocery  national                     Soup    374   0.60   \n",
      "\n",
      "  transaction_date  \n",
      "0       2020-10-05  \n",
      "1       2020-10-24  \n",
      "2       2020-10-18  \n",
      "3       2020-10-23  \n",
      "4       2020-10-27  \n"
     ]
    }
   ],
   "source": [
    "df = pd.read_csv(\"dataset_2019_2022.csv\")\n",
    "df['transaction_date'] = pd.to_datetime(df['transaction_date'], dayfirst=True)\n",
    "print(\"Data frame has {} rows\".format(len(df)))\n",
    "print(\"Data frame head\\n\\r\",df.head())"
   ]
  },
  {
   "cell_type": "code",
   "execution_count": 4,
   "id": "702e3e43-637a-4047-bbef-a5840dc1c23f",
   "metadata": {},
   "outputs": [
    {
     "name": "stdout",
     "output_type": "stream",
     "text": [
      "['First Time Buyer' 'Loyalist' 'Promiscuous']\n",
      "['1 adult with kids' '2 adults with kids' '2 adults with no kids'\n",
      " 'Single female' 'Single male']\n",
      "['19-24' '25-34' '35-44' '45-54' '55-64' 'Greater than 65']\n"
     ]
    }
   ],
   "source": [
    "print(np.unique(df[\"loyalty\"]))\n",
    "print(np.unique(df[\"household_type\"]))\n",
    "print(np.unique(df[\"age_band\"]))\n",
    "#df[\"loyalty\"].plot.hist()\n",
    "#df.plot.bar(column=[\"loyalty\"])"
   ]
  },
  {
   "cell_type": "code",
   "execution_count": 5,
   "id": "c9ac8599-7df2-4c22-8f69-43262c1d04ff",
   "metadata": {},
   "outputs": [
    {
     "name": "stdout",
     "output_type": "stream",
     "text": [
      "        customer_id    product_id     basket_id    store         price\n",
      "count  7.775000e+04  7.775000e+04  7.775000e+04  77750.0  77750.000000\n",
      "mean   2.425159e+04  3.579019e+06  6.905152e+04    374.0      3.231060\n",
      "std    3.965495e+04  4.714247e+06  1.055748e+05      0.0      3.280044\n",
      "min    1.580300e+04  3.508200e+04  5.196400e+04    374.0      0.100000\n",
      "25%    1.952900e+04  9.200910e+05  5.987200e+04    374.0      1.490000\n",
      "50%    2.342900e+04  1.037863e+06  6.802100e+04    374.0      2.500000\n",
      "75%    2.699300e+04  5.578437e+06  7.521500e+04    374.0      3.990000\n",
      "max    2.811700e+06  1.820392e+07  6.811600e+06    374.0     68.970000\n"
     ]
    }
   ],
   "source": [
    "print(df.describe())"
   ]
  },
  {
   "cell_type": "code",
   "execution_count": 6,
   "id": "58d1a8a3-551c-42a4-bc02-d7b16ff72003",
   "metadata": {},
   "outputs": [
    {
     "name": "stdout",
     "output_type": "stream",
     "text": [
      "<class 'pandas.core.frame.DataFrame'>\n",
      "RangeIndex: 77750 entries, 0 to 77749\n",
      "Data columns (total 12 columns):\n",
      " #   Column            Non-Null Count  Dtype         \n",
      "---  ------            --------------  -----         \n",
      " 0   customer_id       77750 non-null  int64         \n",
      " 1   product_id        77750 non-null  int64         \n",
      " 2   basket_id         77750 non-null  int64         \n",
      " 3   loyalty           77750 non-null  object        \n",
      " 4   household_type    77750 non-null  object        \n",
      " 5   age_band          77750 non-null  object        \n",
      " 6   department        77750 non-null  object        \n",
      " 7   brand             77750 non-null  object        \n",
      " 8   commodity         77750 non-null  object        \n",
      " 9   store             77750 non-null  int64         \n",
      " 10  price             77750 non-null  float64       \n",
      " 11  transaction_date  77750 non-null  datetime64[ns]\n",
      "dtypes: datetime64[ns](1), float64(1), int64(4), object(6)\n",
      "memory usage: 7.1+ MB\n",
      "None\n"
     ]
    }
   ],
   "source": [
    "print(df.info())"
   ]
  },
  {
   "cell_type": "code",
   "execution_count": 7,
   "id": "00986b61-97fc-442f-a31f-59e28d5bc251",
   "metadata": {},
   "outputs": [
    {
     "name": "stdout",
     "output_type": "stream",
     "text": [
      "77750\n",
      "77750\n",
      "77691\n"
     ]
    }
   ],
   "source": [
    "print(len(df))\n",
    "df[df.duplicated(keep=False)]\n",
    "print(len(df))\n",
    "\n",
    "df.drop_duplicates(keep= 'first', inplace=True)\n",
    "print(len(df))"
   ]
  },
  {
   "cell_type": "code",
   "execution_count": 10,
   "id": "237a44b6-c4e7-4e31-bcea-c7ccf7b28bb0",
   "metadata": {},
   "outputs": [
    {
     "data": {
      "text/html": [
       "<div>\n",
       "<style scoped>\n",
       "    .dataframe tbody tr th:only-of-type {\n",
       "        vertical-align: middle;\n",
       "    }\n",
       "\n",
       "    .dataframe tbody tr th {\n",
       "        vertical-align: top;\n",
       "    }\n",
       "\n",
       "    .dataframe thead th {\n",
       "        text-align: right;\n",
       "    }\n",
       "</style>\n",
       "<table border=\"1\" class=\"dataframe\">\n",
       "  <thead>\n",
       "    <tr style=\"text-align: right;\">\n",
       "      <th></th>\n",
       "      <th>transaction_date</th>\n",
       "      <th>total_revenue</th>\n",
       "    </tr>\n",
       "  </thead>\n",
       "  <tbody>\n",
       "    <tr>\n",
       "      <th>0</th>\n",
       "      <td>2019-01-01</td>\n",
       "      <td>234.05</td>\n",
       "    </tr>\n",
       "    <tr>\n",
       "      <th>1</th>\n",
       "      <td>2019-01-02</td>\n",
       "      <td>122.97</td>\n",
       "    </tr>\n",
       "    <tr>\n",
       "      <th>2</th>\n",
       "      <td>2019-01-03</td>\n",
       "      <td>160.65</td>\n",
       "    </tr>\n",
       "    <tr>\n",
       "      <th>3</th>\n",
       "      <td>2019-01-04</td>\n",
       "      <td>166.08</td>\n",
       "    </tr>\n",
       "    <tr>\n",
       "      <th>4</th>\n",
       "      <td>2019-01-05</td>\n",
       "      <td>138.64</td>\n",
       "    </tr>\n",
       "  </tbody>\n",
       "</table>\n",
       "</div>"
      ],
      "text/plain": [
       "  transaction_date  total_revenue\n",
       "0       2019-01-01         234.05\n",
       "1       2019-01-02         122.97\n",
       "2       2019-01-03         160.65\n",
       "3       2019-01-04         166.08\n",
       "4       2019-01-05         138.64"
      ]
     },
     "execution_count": 10,
     "metadata": {},
     "output_type": "execute_result"
    }
   ],
   "source": [
    "df.groupby(['transaction_date']).agg(total_revenue=('price', sum)).reset_index().head()"
   ]
  },
  {
   "cell_type": "code",
   "execution_count": 12,
   "id": "9f8055e3-c66a-4be9-8d31-8f19f38c64c7",
   "metadata": {},
   "outputs": [
    {
     "data": {
      "text/plain": [
       "0    2020\n",
       "1    2020\n",
       "2    2020\n",
       "3    2020\n",
       "4    2020\n",
       "Name: year, dtype: int64"
      ]
     },
     "execution_count": 12,
     "metadata": {},
     "output_type": "execute_result"
    }
   ],
   "source": [
    "df[\"year\"] = df.transaction_date.dt.year\n",
    "df[\"month\"] = df.transaction_date.dt.month\n",
    "df['year'].head(5)"
   ]
  },
  {
   "cell_type": "code",
   "execution_count": 13,
   "id": "c7a89442-fdfc-4a9a-98d2-816d336aa8a7",
   "metadata": {},
   "outputs": [
    {
     "data": {
      "text/plain": [
       "array(['First Time Buyer', 'Loyalist', 'Non-Loyalist'], dtype=object)"
      ]
     },
     "execution_count": 13,
     "metadata": {},
     "output_type": "execute_result"
    }
   ],
   "source": [
    "df.loyalty.replace(\"Promiscuous\", \"Non-Loyalist\", inplace=True)\n",
    "np.unique(df[\"loyalty\"])"
   ]
  },
  {
   "cell_type": "code",
   "execution_count": 14,
   "id": "c2eef6b1-197f-4bb3-ad17-60e5d2d03799",
   "metadata": {},
   "outputs": [],
   "source": [
    "df.to_csv('clear dataset 2019-2022.csv',index=False)"
   ]
  },
  {
   "cell_type": "code",
   "execution_count": 40,
   "id": "24ffef4f-f71f-4cf6-81db-60bf289c0bd7",
   "metadata": {},
   "outputs": [
    {
     "name": "stderr",
     "output_type": "stream",
     "text": [
      "C:\\Users\\14389\\AppData\\Local\\Temp\\ipykernel_20624\\92031311.py:1: FutureWarning: The provided callable <built-in function sum> is currently using SeriesGroupBy.sum. In a future version of pandas, the provided callable will be used directly. To keep current behavior pass the string \"sum\" instead.\n",
      "  df.groupby(['year']).agg(total_revenue=('price', sum))\n"
     ]
    },
    {
     "data": {
      "text/html": [
       "<div>\n",
       "<style scoped>\n",
       "    .dataframe tbody tr th:only-of-type {\n",
       "        vertical-align: middle;\n",
       "    }\n",
       "\n",
       "    .dataframe tbody tr th {\n",
       "        vertical-align: top;\n",
       "    }\n",
       "\n",
       "    .dataframe thead th {\n",
       "        text-align: right;\n",
       "    }\n",
       "</style>\n",
       "<table border=\"1\" class=\"dataframe\">\n",
       "  <thead>\n",
       "    <tr style=\"text-align: right;\">\n",
       "      <th></th>\n",
       "      <th>total_revenue</th>\n",
       "    </tr>\n",
       "    <tr>\n",
       "      <th>year</th>\n",
       "      <th></th>\n",
       "    </tr>\n",
       "  </thead>\n",
       "  <tbody>\n",
       "    <tr>\n",
       "      <th>2019</th>\n",
       "      <td>72623.35</td>\n",
       "    </tr>\n",
       "    <tr>\n",
       "      <th>2020</th>\n",
       "      <td>74169.00</td>\n",
       "    </tr>\n",
       "    <tr>\n",
       "      <th>2021</th>\n",
       "      <td>74280.04</td>\n",
       "    </tr>\n",
       "    <tr>\n",
       "      <th>2022</th>\n",
       "      <td>29908.08</td>\n",
       "    </tr>\n",
       "  </tbody>\n",
       "</table>\n",
       "</div>"
      ],
      "text/plain": [
       "      total_revenue\n",
       "year               \n",
       "2019       72623.35\n",
       "2020       74169.00\n",
       "2021       74280.04\n",
       "2022       29908.08"
      ]
     },
     "execution_count": 40,
     "metadata": {},
     "output_type": "execute_result"
    }
   ],
   "source": [
    "df.groupby(['year']).agg(total_revenue=('price', sum))"
   ]
  },
  {
   "cell_type": "code",
   "execution_count": 15,
   "id": "d1ccfdf0-ac7a-4542-940a-39b2d809dd3b",
   "metadata": {},
   "outputs": [
    {
     "data": {
      "text/html": [
       "<div>\n",
       "<style scoped>\n",
       "    .dataframe tbody tr th:only-of-type {\n",
       "        vertical-align: middle;\n",
       "    }\n",
       "\n",
       "    .dataframe tbody tr th {\n",
       "        vertical-align: top;\n",
       "    }\n",
       "\n",
       "    .dataframe thead tr th {\n",
       "        text-align: left;\n",
       "    }\n",
       "\n",
       "    .dataframe thead tr:last-of-type th {\n",
       "        text-align: right;\n",
       "    }\n",
       "</style>\n",
       "<table border=\"1\" class=\"dataframe\">\n",
       "  <thead>\n",
       "    <tr>\n",
       "      <th></th>\n",
       "      <th colspan=\"4\" halign=\"left\">price</th>\n",
       "    </tr>\n",
       "    <tr>\n",
       "      <th></th>\n",
       "      <th>min</th>\n",
       "      <th>max</th>\n",
       "      <th>mean</th>\n",
       "      <th>sum</th>\n",
       "    </tr>\n",
       "    <tr>\n",
       "      <th>year</th>\n",
       "      <th></th>\n",
       "      <th></th>\n",
       "      <th></th>\n",
       "      <th></th>\n",
       "    </tr>\n",
       "  </thead>\n",
       "  <tbody>\n",
       "    <tr>\n",
       "      <th>2019</th>\n",
       "      <td>0.1</td>\n",
       "      <td>56.97</td>\n",
       "      <td>3.281043</td>\n",
       "      <td>35710.87</td>\n",
       "    </tr>\n",
       "    <tr>\n",
       "      <th>2020</th>\n",
       "      <td>0.1</td>\n",
       "      <td>56.97</td>\n",
       "      <td>3.242128</td>\n",
       "      <td>36253.47</td>\n",
       "    </tr>\n",
       "    <tr>\n",
       "      <th>2021</th>\n",
       "      <td>0.1</td>\n",
       "      <td>43.69</td>\n",
       "      <td>3.240754</td>\n",
       "      <td>37369.13</td>\n",
       "    </tr>\n",
       "    <tr>\n",
       "      <th>2022</th>\n",
       "      <td>0.1</td>\n",
       "      <td>49.22</td>\n",
       "      <td>3.357441</td>\n",
       "      <td>29908.08</td>\n",
       "    </tr>\n",
       "  </tbody>\n",
       "</table>\n",
       "</div>"
      ],
      "text/plain": [
       "     price                           \n",
       "       min    max      mean       sum\n",
       "year                                 \n",
       "2019   0.1  56.97  3.281043  35710.87\n",
       "2020   0.1  56.97  3.242128  36253.47\n",
       "2021   0.1  43.69  3.240754  37369.13\n",
       "2022   0.1  49.22  3.357441  29908.08"
      ]
     },
     "execution_count": 15,
     "metadata": {},
     "output_type": "execute_result"
    }
   ],
   "source": [
    "df[df.transaction_date.dt.month < 7] \\\n",
    "    .groupby(['year']) \\\n",
    "    .agg({'price': ['min', 'max', 'mean', 'sum']})"
   ]
  },
  {
   "cell_type": "code",
   "execution_count": 17,
   "id": "5101a3bd-01c7-4eaa-b537-a3904b36859d",
   "metadata": {},
   "outputs": [
    {
     "data": {
      "text/html": [
       "<div>\n",
       "<style scoped>\n",
       "    .dataframe tbody tr th:only-of-type {\n",
       "        vertical-align: middle;\n",
       "    }\n",
       "\n",
       "    .dataframe tbody tr th {\n",
       "        vertical-align: top;\n",
       "    }\n",
       "\n",
       "    .dataframe thead th {\n",
       "        text-align: right;\n",
       "    }\n",
       "</style>\n",
       "<table border=\"1\" class=\"dataframe\">\n",
       "  <thead>\n",
       "    <tr style=\"text-align: right;\">\n",
       "      <th></th>\n",
       "      <th>brand</th>\n",
       "      <th>year</th>\n",
       "      <th>total_revenue</th>\n",
       "    </tr>\n",
       "  </thead>\n",
       "  <tbody>\n",
       "    <tr>\n",
       "      <th>0</th>\n",
       "      <td>national</td>\n",
       "      <td>2019</td>\n",
       "      <td>58636.13</td>\n",
       "    </tr>\n",
       "    <tr>\n",
       "      <th>1</th>\n",
       "      <td>national</td>\n",
       "      <td>2020</td>\n",
       "      <td>59285.56</td>\n",
       "    </tr>\n",
       "    <tr>\n",
       "      <th>2</th>\n",
       "      <td>national</td>\n",
       "      <td>2021</td>\n",
       "      <td>58893.30</td>\n",
       "    </tr>\n",
       "    <tr>\n",
       "      <th>3</th>\n",
       "      <td>national</td>\n",
       "      <td>2022</td>\n",
       "      <td>24475.92</td>\n",
       "    </tr>\n",
       "    <tr>\n",
       "      <th>4</th>\n",
       "      <td>private</td>\n",
       "      <td>2019</td>\n",
       "      <td>13987.22</td>\n",
       "    </tr>\n",
       "    <tr>\n",
       "      <th>5</th>\n",
       "      <td>private</td>\n",
       "      <td>2020</td>\n",
       "      <td>14883.44</td>\n",
       "    </tr>\n",
       "    <tr>\n",
       "      <th>6</th>\n",
       "      <td>private</td>\n",
       "      <td>2021</td>\n",
       "      <td>15386.74</td>\n",
       "    </tr>\n",
       "    <tr>\n",
       "      <th>7</th>\n",
       "      <td>private</td>\n",
       "      <td>2022</td>\n",
       "      <td>5432.16</td>\n",
       "    </tr>\n",
       "  </tbody>\n",
       "</table>\n",
       "</div>"
      ],
      "text/plain": [
       "      brand  year  total_revenue\n",
       "0  national  2019       58636.13\n",
       "1  national  2020       59285.56\n",
       "2  national  2021       58893.30\n",
       "3  national  2022       24475.92\n",
       "4   private  2019       13987.22\n",
       "5   private  2020       14883.44\n",
       "6   private  2021       15386.74\n",
       "7   private  2022        5432.16"
      ]
     },
     "execution_count": 17,
     "metadata": {},
     "output_type": "execute_result"
    }
   ],
   "source": [
    "df.groupby(['brand', 'year']).agg(total_revenue=('price', sum)).reset_index()"
   ]
  },
  {
   "cell_type": "code",
   "execution_count": null,
   "id": "6599c595-5162-4d9e-b962-fdbf00941125",
   "metadata": {},
   "outputs": [],
   "source": []
  }
 ],
 "metadata": {
  "kernelspec": {
   "display_name": "Python 3 (ipykernel)",
   "language": "python",
   "name": "python3"
  },
  "language_info": {
   "codemirror_mode": {
    "name": "ipython",
    "version": 3
   },
   "file_extension": ".py",
   "mimetype": "text/x-python",
   "name": "python",
   "nbconvert_exporter": "python",
   "pygments_lexer": "ipython3",
   "version": "3.9.12"
  }
 },
 "nbformat": 4,
 "nbformat_minor": 5
}
